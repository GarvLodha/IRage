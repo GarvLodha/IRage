{
 "cells": [
  {
   "cell_type": "markdown",
   "metadata": {},
   "source": [
    "# Import Libraries"
   ]
  },
  {
   "cell_type": "code",
   "execution_count": null,
   "metadata": {
    "collapsed": false
   },
   "outputs": [],
   "source": [
    "import pandas as pd\n",
    "import numpy as np\n",
    "import xgboost as xgb\n",
    "from xgboost.sklearn import XGBClassifier\n",
    "from xgboost.sklearn import XGBRegressor\n",
    "from sklearn import cross_validation, metrics\n",
    "from sklearn.grid_search import GridSearchCV\n",
    "\n",
    "import matplotlib.pylab as plt\n",
    "%matplotlib inline\n",
    "from matplotlib.pylab import rcParams\n",
    "rcParams['figure.figsize'] = 12, 4"
   ]
  },
  {
   "cell_type": "markdown",
   "metadata": {},
   "source": [
    "# Load Data"
   ]
  },
  {
   "cell_type": "code",
   "execution_count": null,
   "metadata": {
    "collapsed": false
   },
   "outputs": [],
   "source": [
    "#train = pd.read_csv('/home/garv/MachineLearning/IRage/train_modified.csv')\n",
    "#train = pd.read_csv('/home/garv/MachineLearning/IRage/RMSE/train_modified_cut1.csv')\n",
    "train = pd.read_csv('/home/IRage/RMSE/train_modified_cut1.csv')\n",
    "#test = pd.read_csv('/home/garv/MachineLearning/IRage/test_modified.csv')\n",
    "#test = pd.read_csv('/home/garv/MachineLearning/IRage/RMSE/test_modified.csv')\n",
    "test = pd.read_csv('/home/IRage/RMSE/test_modified_cut1.csv')\n"
   ]
  },
  {
   "cell_type": "code",
   "execution_count": null,
   "metadata": {
    "collapsed": false
   },
   "outputs": [],
   "source": [
    "train.dtypes"
   ]
  },
  {
   "cell_type": "code",
   "execution_count": null,
   "metadata": {
    "collapsed": false
   },
   "outputs": [],
   "source": [
    "train.shape, test.shape"
   ]
  },
  {
   "cell_type": "code",
   "execution_count": null,
   "metadata": {
    "collapsed": true
   },
   "outputs": [],
   "source": [
    "target = 'Best Buy Price Modified'\n",
    "Timestamp = 'Exchange timestamp in milliseconds'"
   ]
  },
  {
   "cell_type": "markdown",
   "metadata": {},
   "source": []
  },
  {
   "cell_type": "markdown",
   "metadata": {},
   "source": [
    "## Define a function for modeling and cross-validation\n",
    "\n",
    "This function will do the following:\n",
    "1. fit the model\n",
    "2. determine training accuracy\n",
    "3. determine training AUC\n",
    "4. determine testing AUC\n",
    "5. update n_estimators with cv function of xgboost package\n",
    "6. plot Feature Importance "
   ]
  },
  {
   "cell_type": "code",
   "execution_count": null,
   "metadata": {
    "collapsed": false
   },
   "outputs": [],
   "source": [
    "#test_results = pd.read_csv('test_results.csv')\n",
    "#test_results = pd.read_csv('/home/garv/MachineLearning/IRage/test_modified.csv')\n",
    "#test_results = pd.read_csv('/home/garv/MachineLearning/IRage/RMSE/test_modified.csv')\n",
    "test_results = pd.read_csv('/home/IRage/RMSE/test_modified_cut1.csv')\n",
    "def modelfit(alg, dtrain, dtest, predictors,useTrainCV=True, cv_folds=5, early_stopping_rounds=50):\n",
    "    \n",
    "    if useTrainCV:\n",
    "        xgb_param = alg.get_xgb_params()\n",
    "        xgtrain = xgb.DMatrix(dtrain[predictors].values, label=dtrain[target].values)\n",
    "        xgtest = xgb.DMatrix(dtest[predictors].values)\n",
    "        #cvresult = xgb.cv(xgb_param, xgtrain, num_boost_round=alg.get_params()['n_estimators'], nfold=cv_folds, metrics='auc', early_stopping_rounds=early_stopping_rounds, show_progress=False)\n",
    "        #cvresult = xgb.cv(xgb_param, xgtrain, num_boost_round=alg.get_params()['n_estimators'], nfold=cv_folds, metrics='auc', early_stopping_rounds=early_stopping_rounds)\n",
    "        cvresult = xgb.cv(xgb_param, xgtrain, num_boost_round=alg.get_params()['n_estimators'], nfold=cv_folds, metrics='rmse', early_stopping_rounds=early_stopping_rounds,verbose_eval=False)\n",
    "\n",
    "        #cvresult = xgb.cv(xgb_param, xgtrain, num_boost_round=alg.get_params()['n_estimators'], nfold=cv_folds,metrics=[\"auc\"], early_stopping_rounds=early_stopping_rounds, show_progress=False)    \n",
    "        alg.set_params(n_estimators=cvresult.shape[0])\n",
    "    \n",
    "    #Fit the algorithm on the data\n",
    "    #alg.fit(dtrain[predictors], dtrain['Disbursed'],eval_metric='auc')\n",
    "    #alg.fit(dtrain[predictors], dtrain['Best Buy Price Modified'],eval_metric='auc')\n",
    "    alg.fit(dtrain[predictors], dtrain['Best Buy Price Modified'],eval_metric='rmse')\n",
    "        \n",
    "    #Predict training set:\n",
    "    dtrain_predictions = alg.predict(dtrain[predictors])\n",
    "    #dtrain_predprob = alg.predict_proba(dtrain[predictors])[:,1] #Commented\n",
    "        \n",
    "    #Print model report:\n",
    "    #print \"\\nModel Report\"\n",
    "    print(\"\\nModel Report\")\n",
    "    #print \"Accuracy : %.4g\" % metrics.accuracy_score(dtrain['Disbursed'].values, dtrain_predictions)\n",
    "    #print(\"Accuracy : %.4g\" % metrics.accuracy_score(dtrain['Best Buy Price Modified'].values, dtrain_predictions))\n",
    "    #print \"AUC Score (Train): %f\" % metrics.roc_auc_score(dtrain['Disbursed'], dtrain_predprob)\n",
    "    #print(\"AUC Score (Train): %f\" % metrics.roc_auc_score(dtrain['Best Buy Price Modified'], dtrain_predprob))\n",
    "    print(\"Explained Variance Score (Train): %f\" % metrics.explained_variance_score(dtrain['Best Buy Price Modified'], dtrain_predictions))\n",
    "    print(\"Mean Absolute Error (Train): %f\" % metrics.mean_absolute_error(dtrain['Best Buy Price Modified'], dtrain_predictions))\n",
    "    print(\"Mean Squared Error (Train): %f\" % metrics.mean_squared_error(dtrain['Best Buy Price Modified'], dtrain_predictions))\n",
    "    print(\"R2 Score (Train): %f\" % metrics.r2_score(dtrain['Best Buy Price Modified'], dtrain_predictions))\n",
    "    \n",
    "#     Predict on testing data:\n",
    "    #dtest['predprob'] = alg.predict_proba(dtest[predictors])[:,1]      #Commented\n",
    "    dtest['pred'] = alg.predict(dtest[predictors]) \n",
    "    #results = test_results.merge(dtest[['ID','predprob']], on='ID')    #Commented\n",
    "    results = test_results.merge(dtest[['Exchange timestamp in milliseconds','pred']], on='Exchange timestamp in milliseconds')    #Commented\n",
    "    #print 'AUC Score (Test): %f' % metrics.roc_auc_score(results['Disbursed'], results['predprob']) #Commented\n",
    "    #print 'AUC Score (Test): %f' % metrics.roc_auc_score(results['Best Buy Price Modified'], results['pred']) #Commented\n",
    "    #print('AUC Score (Test): %f' % metrics.roc_auc_score(results['Best Buy Price Modified'], results['pred'])) \n",
    "    print(\"Explained Variance Score (Test): %f\" % metrics.explained_variance_score(results['Best Buy Price Modified'], results['pred']))\n",
    "    print(\"Mean Absolute Error (Test): %f\" % metrics.mean_absolute_error(results['Best Buy Price Modified'], results['pred']))\n",
    "    print(\"Mean Squared Error (Test): %f\" % metrics.mean_squared_error(results['Best Buy Price Modified'], results['pred']))\n",
    "    print(\"R2 Score (Test): %f\" % metrics.r2_score(results['Best Buy Price Modified'], results['pred']))\n",
    "    feat_imp = pd.Series(alg.booster().get_fscore()).sort_values(ascending=False)\n",
    "    feat_imp.plot(kind='bar', title='Feature Importances')\n",
    "    plt.ylabel('Feature Importance Score')\n",
    "    plt.savefig(\"FeatureImportance.png\", bbox_inches='tight') #appended"
   ]
  },
  {
   "cell_type": "code",
   "execution_count": null,
   "metadata": {
    "collapsed": false
   },
   "outputs": [],
   "source": [
    "#predictors = [x for x in train.columns if x not in [target, IDcol]]\n",
    "predictors = [x for x in train.columns if x not in [target]]\n",
    "xgb1 = XGBRegressor(\n",
    "        learning_rate =0.1,\n",
    "        n_estimators=1000,\n",
    "        max_depth=5,\n",
    "        min_child_weight=1,\n",
    "        gamma=0,\n",
    "        subsample=0.8,\n",
    "        colsample_bytree=0.8,\n",
    "        objective= 'reg:linear',\n",
    "        scale_pos_weight=0,\n",
    "        seed=27)\n",
    "modelfit(xgb1, train, test, predictors)"
   ]
  }
 ],
 "metadata": {
  "kernelspec": {
   "display_name": "Python 3",
   "language": "python",
   "name": "python3"
  },
  "language_info": {
   "codemirror_mode": {
    "name": "ipython",
    "version": 3
   },
   "file_extension": ".py",
   "mimetype": "text/x-python",
   "name": "python",
   "nbconvert_exporter": "python",
   "pygments_lexer": "ipython3",
   "version": "3.5.2"
  }
 },
 "nbformat": 4,
 "nbformat_minor": 0
}
